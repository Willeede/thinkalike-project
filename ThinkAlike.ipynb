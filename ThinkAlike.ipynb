{
  "nbformat": 4,
  "nbformat_minor": 0,
  "metadata": {
    "colab": {
      "provenance": [],
      "authorship_tag": "ABX9TyNMcpYBJmXX1Jv1B1n+afAQ",
      "include_colab_link": true
    },
    "kernelspec": {
      "name": "python3",
      "display_name": "Python 3"
    },
    "language_info": {
      "name": "python"
    }
  },
  "cells": [
    {
      "cell_type": "markdown",
      "metadata": {
        "id": "view-in-github",
        "colab_type": "text"
      },
      "source": [
        "<a href=\"https://colab.research.google.com/github/Willeede/thinkalike-project/blob/main/ThinkAlike.ipynb\" target=\"_parent\"><img src=\"https://colab.research.google.com/assets/colab-badge.svg\" alt=\"Open In Colab\"/></a>"
      ]
    },
    {
      "cell_type": "code",
      "execution_count": null,
      "metadata": {
        "id": "QoMCV3HcP_2Q"
      },
      "outputs": [],
      "source": [
        "*   **Option 2: Open an Existing Notebook from GitHub (Preferred for this Scenario):**\n",
        "    *   **Action:** Click on the \"GitHub\" tab that is available on the side menu.\n",
        "    *   **Guidance:**  This will open the GitHub integration panel in Google Colab, and it will allow you to connect to your repository.\n",
        "    *   **Use this option if:** You want to work on an existing Jupyter Notebook file that you have stored in the repository.\n",
        "\n",
        "    *  **Specific Instructions:**\n",
        "        1.  **Paste Repository URL:** Paste the URL of your `thinkalike-project` GitHub repository into the \"Enter a GitHub URL or search by organization or user\" field.\n",
        "        2. **Select the Repository**: You should select your repository name from the dropdown menu called \"Repository\", after you have typed the URL in the previous field.\n",
        "        3.  **Select Branch:** Choose the `main` branch from the branch dropdown menu.\n",
        "    *   **What you Should Expect:** You should be able to see all of the Jupyter Notebook files (.ipynb) inside the selected branch, listed in the main area of the popup window.\n",
        "Use code with caution.\n",
        "3. Connecting Google Drive (Optional but Recommended):\n",
        "\n",
        "Why Connect Google Drive? Connecting Google Drive allows you to:\n",
        "\n",
        "Easily access and save files directly from your Google Drive to your Colab notebook.\n",
        "\n",
        "Save the output of your computations, as well as download code and documentation.\n",
        "\n",
        "How To Connect:\n",
        "\n",
        "In a code cell of your Colab Notebook, run the following code:\n",
        "\n",
        "from google.colab import drive\n",
        "drive.mount('/content/drive')"
      ]
    }
  ]
}